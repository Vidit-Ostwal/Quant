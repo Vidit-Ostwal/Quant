{
  "nbformat": 4,
  "nbformat_minor": 0,
  "metadata": {
    "colab": {
      "provenance": []
    },
    "kernelspec": {
      "name": "python3",
      "display_name": "Python 3"
    },
    "language_info": {
      "name": "python"
    }
  },
  "cells": [
    {
      "cell_type": "markdown",
      "source": [
        "# **What is One-Period Binomial Pricing Model?**\n",
        "\n",
        "---\n",
        "### **One-period Binomial Pricing Model** is one of the simplest financial  model to understand. A brief discription about this is given below:\n",
        "\n",
        "*   We call the beginning of the period time zero and the end of the period time one At time zero, we have a stock whose price per share we denote by `S0`, a positive quantity known at time zero\n",
        "*   At time one, the price per share of this stock will be one of two\n",
        "positive values, which we denote `S1(H) and S1(T)`, the H and T standing\n",
        "for head and tail, respectively\n",
        "*   Thus, we are imagining that a coin is tossed, and the outcome of the coin toss determines the price at time one. We do not assume this coin is fair (i.e., the probability of hea.d need not be one-half)\n",
        "*   We assume only that the probability of head, which we call `p`, is positive, and the probability of tail, which is `q = 1 - p`, is also positive\n",
        "*  u is the up-factor and d is the down-factor \n",
        "*  We also introduce interest rate` r`.  One dollar invested in the money\n",
        "market at time zero will yield `1 + r `dollars at time one. And we are assuming that the rate of borrowing is same as the rate of investing\n",
        "\n",
        "![image.png](data:image/png;base64,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)\n",
        "\n",
        "\n",
        "<br><br>\n",
        "\n"
      ],
      "metadata": {
        "id": "fi8rsaoCKkJJ"
      }
    },
    {
      "cell_type": "markdown",
      "source": [
        "### **Arbitrage Model**\n",
        "An essential feature of an efficient market is that if a trading strategy can\n",
        "turn nothing into something, then it must also run the risk of loss. Otherwise,\n",
        "there would be an arbitrage. <br>\n",
        "More specifically, we define arbitrage as a trading\n",
        "strategy that begiis with no money, has zero probability of losing money,\n",
        "and has a positive probability of making money.\n",
        "<br>\n",
        "\n",
        "### **`0 < d < 1 + r < u`**\n",
        "This is very important to hold the condition that the trading strategy does not lead to an arbitrage\n",
        "\n",
        "Let's try to derive this eqaution bit-by-bit.\n",
        "\n",
        "\n",
        "*   **`d < 0`**, this is not possible by considering the fact that the stock price needs to be positive\n",
        "*   **`1 + r < d`**, one could begin with zero wealth and at time zero borrow from the money market in order to buy stock. Even in the worst case of a tail on the coin toss, the stock at time one will be worth enough to pay off the money market debt . Thus providing an arbitrage\n",
        "*   **`u < 1 + r`**, one could sell the stock short and invest the\n",
        "proceeds in the money market. Even in the best case for the stock, the cost of\n",
        "replacing it at time one will be less than or equal to the value of the money\n",
        "market investment. Thus again providing an arbitrage\n",
        "\n",
        "We have argued in the previously that if there is to be no arbitrage in the market with the stock and the money market account, then we\n",
        "must have **`0 < d < 1 + r < u`**. The converse of this is also true, if the previous condition holds, then there is no arbitrage.\n",
        "\n",
        "<br><br>\n",
        "\n",
        "\n",
        "\n"
      ],
      "metadata": {
        "id": "6UCfbNtcMTQi"
      }
    },
    {
      "cell_type": "markdown",
      "source": [
        "### **Does the actual market scenario looks this simple?**\n",
        "Of course, stock price movements are much more complicated than indicated by the binomial asset-pricing model. We consider this simple model for\n",
        "three reasons. \n",
        "\n",
        "*   First of all, within this model, the concept of [arbitrage pricing](https://g.co/kgs/uYLfWy) and its relation to [risk-neutral pricing](https://g.co/kgs/R2XhQE) is clearly illuminated.\n",
        "*   Secondly, the model is used in practice because, with a sufficient number of periods, it provides a reasonably good, computationally tractable approximation to continuous-time models. \n",
        "*   Finally, within the binomial asset-pricing model, we can develop the theory of conditional expectations and martingales, which lies\n",
        "at the heart of continuous-time models.\n",
        "\n",
        "<br>\n",
        "\n",
        "###**Different Dervatives**\n",
        "\n",
        "\n",
        "*   **European Call Option** which confers on its owner\n",
        "the right but not the obligation to buy one share of the stock at time one for\n",
        "the strike price K\n",
        "\n",
        "\n",
        "1.   Let's assume that `S1(T) < K < S1(H)`, if we get a tail on the toss, then the option is not exercised, but if we get a head then option is exercised and we get a profit of `S1(H) - K`.\n",
        "2.   Therefore we say that this option is worth `(S1(H) - K )+` which basically means `max(0,S1 - K)`\n",
        "\n",
        "The fundamental question of option pricing is how much the **option is\n",
        "worth** at time zero before we know whether the coin toss results in head or\n",
        "tail. \n",
        "\n",
        "Different types of options available:\n",
        "*  [Call Option](https://www.investopedia.com/terms/c/calloption.asp)\n",
        "*  [Put Option](https://www.investopedia.com/terms/p/putoption.asp)\n",
        "*  [Forward Option](https://www.investopedia.com/terms/f/forwardcontract.asp#:~:text=What%20Is%20a%20Forward%20Contract,it%20particularly%20apt%20for%20hedging.)\n",
        "\n",
        "**The arbitrage pricing theory approach to the option-pricing problem is to\n",
        "replicate the option by trading in the stock and money markets**\n",
        "<br><br>\n",
        "\n",
        "###**Example to understand how we replicate options in stock and money markets**\n"
      ],
      "metadata": {
        "id": "rWBnfXgdSo93"
      }
    },
    {
      "cell_type": "code",
      "source": [
        "def Calculate_S1H(initial_price : int, up_factor : int):\n",
        "  print(\"The Up-Factor Price or the S1(H) is :\", initial_price*up_factor,'\\n')\n",
        "  return initial_price*up_factor\n",
        "\n",
        "def Calculate_S1T(initial_price : int, down_factor : int):\n",
        "  print(\"The Down-Factor Price or the S1(T) is :\", initial_price*down_factor,'\\n')\n",
        "  return initial_price*down_factor\n",
        "\n",
        "def Calculate_cash_position_at_time_one(initial_net_position: int, interest_rate: int):\n",
        "  print(\"Cash Position at time one: \",initial_net_position*(1 + interest_rate),'\\n')\n",
        "  return initial_net_position*(1 + interest_rate)\n",
        "\n",
        "def Model1(initial_wealth: int,initial_stock_price: int, no_of_shares: int, up_factor: int,interest_rate: int, strike_price: int):\n",
        "  ## Down Factor is usually 1 / Up-Factor\n",
        "\n",
        "  total_cash_required = no_of_shares * initial_stock_price \n",
        "  net_position = initial_wealth - total_cash_required\n",
        "\n",
        "  print(\"Total Cash Required: \",total_cash_required,'\\n') \n",
        "  print(\"Total Cash Initially:\", initial_wealth,'\\n')\n",
        "  print(\"Net Cash Required:\",net_position,'\\n')\n",
        "\n",
        "  net_position_at_time_one = Calculate_cash_position_at_time_one(net_position,interest_rate)\n",
        "  S1H = Calculate_S1H(initial_stock_price,up_factor)\n",
        "  S1T = Calculate_S1T(initial_stock_price, 1 / up_factor)\n",
        "\n",
        "  net_position_at_time_one_head = no_of_shares * S1H + net_position_at_time_one\n",
        "  net_position_at_time_one_tail = no_of_shares * S1T + net_position_at_time_one\n",
        "\n",
        "  print(\"Net Position at time one (H):\", net_position_at_time_one_head,'\\n')\n",
        "  print(\"Net Position at time one (T):\", net_position_at_time_one_tail,'\\n')\n",
        "\n",
        "\n",
        "  print(\"Now consider a long position on a call option with a strike price of: \",strike_price,'\\n')\n",
        "  print(\"If the stock goes up, the option will be exercised,net position in that case: \",max(0,int(S1H) - strike_price),'\\n')\n",
        "  print(\"If the stock goes down, the option will be not be exercised,net position in that case: \",max(0,int(S1T) - strike_price))\n"
      ],
      "metadata": {
        "id": "GqMH1k1IglUi"
      },
      "execution_count": 1,
      "outputs": []
    },
    {
      "cell_type": "code",
      "source": [
        "initial_wealth = 1.2\n",
        "initial_stock_price = 4\n",
        "no_of_shares = 0.5\n",
        "up_factor = 2\n",
        "interest_rate = 0.25\n",
        "strike_price = 5"
      ],
      "metadata": {
        "id": "KLWQHmeWqgIi"
      },
      "execution_count": 2,
      "outputs": []
    },
    {
      "cell_type": "code",
      "source": [
        "Model1(initial_wealth, initial_stock_price, no_of_shares, up_factor, interest_rate, strike_price)"
      ],
      "metadata": {
        "id": "cIrtN-5trxZJ"
      },
      "execution_count": null,
      "outputs": []
    },
    {
      "cell_type": "markdown",
      "source": [
        "###**Thus in both the condition, the gain / losses are the same, hence this how we replicate a option in terms of money and stock market.**\n",
        "\n",
        "The **`initial weath`** (in this case 1.2), which is been `required to set up the option`, is call the**`no-arbitrage price`** of the option.\n",
        "\n",
        "<br>\n",
        "\n",
        "Why is this called **no-arbitrage price** of the option ?\n",
        "Let's consider two cases when the price of the option is 1.21  and 1.19,\n",
        "* Let's consider the case when one is able to sell the option at 1.21, one can replicate the whole option in the market by just using 1.20 and invest the rest 0.01 in the money market, at time one, the seller of the option regardless of how stock performs will be able to pay-off the option\n",
        "\n",
        "* Let's consider that we are able to buy a option for 1.19, in this case we can purely reverse our strategy, we can first short sell lhalf the stock, get 2. Now we can buy the option at 1.19, and invest 0.8 in money market and left 0.01 in some another money market. At time one, if the stock coin toss results in head, we need 4 to replace the stock, we will get 3 from the option and 0.08 invested in time zero will become 1.0 at time one, and thus we will be able to pay off, and still left with 0.01 invested in market at time. \n",
        "\n",
        "Thus both of these gives us a cleaar understanding that for no arbitrage to exist, the price of the option should be 1.2 and thus called **`no-arbitrage pricing`**\n",
        "\n",
        "<br>\n",
        "\n",
        "The argument in the example above depends on several assumptions. The\n",
        "principal ones are:\n",
        "* Shares of stock can be subdivided for sale or purchase,\n",
        "* The interest rate for investing is the same as the interest rate for borrowing,\n",
        "* The purchase price of stock is the same as the selling price (i.e., there is\n",
        "zero bid-ask spread),\n",
        "* At any time, the stock can take only two possible values in the next period.\n"
      ],
      "metadata": {
        "id": "HLzL-MLuuxKT"
      }
    },
    {
      "cell_type": "markdown",
      "source": [
        "### **Option Pricing in Share Market**\n",
        "\n",
        "\n",
        "Let's now dive into the mathematics of figuring out, how we can know the option value at time zero, how much shares we need to replicate the option in share market?\n",
        "\n",
        "This a somewhat mathematics heavy and would ask to work on this with a pen and pencil\n",
        "\n",
        "* In the general one period binomial model, we define a derivative security to be a security that pays some amount **`V1(H)`** if the coin toss results in a head, and **`V1(T)`** if the coin toss results in a tail\n",
        "* To determine the price **`V0`** of the option at time zero, let's consider we need to buy **`N`**number of shares at a price of **`S0`** and we are begining with a initial wealth of **`X0`**.\n",
        "* This gives us a initial net poistion of **`X0 - N*S0`**, \n",
        "* Value of the postfolio of stock and money market at time one would be **`N*S1 + (1 + r)*(X0 - N*S0)`** which can be rearranged into **`(1 + r)*X0 + N*(S1  - (1 + r)*S0`**\n",
        "* We need to choose **`N`** and **`X0`** such that **`X1(H) = V1(H)`** and **`X1(T) = V1(T)`**\n",
        "* Two equation which we reailize is  **`(1 + r)*X0 + N*(S1(H)  - (1 + r)*S0 = V1(H)`** and **`(1 + r)*X0 + N*(S1(T)  - (1 + r)*S0 = V1(T)`**\n",
        "* Both of the equation above can be rearranged like **`X0 + N*(S1(H)/(1+r)  - S0) = V1(H)/(1+r)`** and **`X0 + N*(S1(T) /(1+r) - S0) = V1(T)/(1+r)`**\n",
        "\n",
        "<br>\n",
        "\n",
        "One wat to solve both of these equation is to multiply first equation with **`a`** and second equation with **`b = 1 - a`** and add both the equation\n",
        "* Final equation which comes out ot be is **`X0 + N * ( (S1(H)*a + S1(T)*b) / (1+r) - S0) = (a*V1(H) + b*V1(T) / (1 + r))`** \n",
        "* if we choose **`a`** such that **`S0 = (S1(H)*a + S1(T)*b) / (1+r)`** , then we have a direct equation for **`X0 = (a*V1(H) + b*V1(T)) / (1 + r)`** \n",
        "* If we simplify our assumption of **`S0 = (S1(H)*a + S1(T)*b) / (1+r)`**, such that **`S0 = (S0*u*a + S0*d*(1-a)) / (1+r)`** which will lead us to **`1 + r = d + a(u - d)`**  and therefore **`a = (1 + r - d )/(u - d)`**\n",
        "* **`b = 1 - a`**, therefore **`b = (u - 1 - r)/(u - d)`**\n",
        "* We can solve for **`N`**, buy substracting the two equation which we derived **`(1 + r)*X0 + N*(S1(H)  - (1 + r)*S0 = V1(H)`** and **`(1 + r)*X0 + N*(S1(T)  - (1 + r)*S0 = V1(T)`**\n",
        "* Which leads us to **`N = V1(H) - V1(T) / (S1(H) - S1(T))`**  \n",
        "\n",
        "Thus if a agent buys **`N`** shares at time zero and has a wealth of **`X0`**, then at time one if the coin toss results in head then we will have a postfolio worth **`V1(H)`** and if the coin toss results in tail then we will have a portfolio worh **`V1(T)`**\n",
        "\n",
        "The agent has now hedged a **short position in a derivative security**\n",
        "\n",
        "* This derivative security which pays **`V1`** at time one, should be priced at **`V0 = (a*V1(H) + b*V1(T))/(1 + r)`**\n",
        "\n",
        "<br>\n",
        "\n",
        "In this above thing we have developed a model for hedging a short position, similarily we can do to hedge for a long position, in that case the number of stock we need to sell short is the negative of the number of the shares we finded above\n",
        "\n",
        "* **`a`** and **`b`** in here, are both positive and due to no-arbitrage condition they sum to one, and therefore somtimes we regard them as probabilities of head and tail, they are not the acutal probabilities we discussed before, rather they are call risk-neutral probabilities\n",
        "* Also, under the actual probabilities, the average rate of growth of the\n",
        "stock is typically strictly greater than the rate of growth of an investment in\n",
        "the money market; otherwise, no one would want to incur the risk associated\n",
        "with investing in the stock.\n",
        "* Therefore, **`S0 < (p*S1(H) + q*S1(T))/(1+r)`** compared to **`S0 = (a*S1(H) + b*S1(T))/(1+r)`** as we already determined\n",
        "* They assist us by making the term multiplying the\n",
        "unknown L\\o drop out. \n",
        "* In fact, because they are chosen to make the mean rate of growth of the stock appear to equal the rate of growth of the money market account, they make the mean rate of growth of any portfolio of stock and money market account appear to equal the rate of growth of the money market asset.\n",
        "* The concluding equation **`V0 = (a*V1(H) + b*V1(T))/(1 + r)`** for the time-zero price **`V0`** of the derivative security **`V1`** is called the **risk-neutral pricing formula** for the one-period binomial model.\n",
        "*  One should not be concerned that the actual probabilities\n",
        "do not appear in this equation. We have constructed a hedge for a short position in the derivative security, and this hedge works regardless of whether\n",
        "the stock goes up or down. The probabilities of the up and down moves are\n",
        "irrelevant. \n",
        "* What matters is the size of the two possible moves (the values of\n",
        "u and d). In the binomial model, the prices of derivative securities depend\n",
        "on the set of possible stock price paths but not on how probable these paths\n",
        "are. \n",
        "\n",
        "<br>\n",
        "\n",
        "### Now, lets try to make a model stimulating all the mathematics above\n"
      ],
      "metadata": {
        "id": "HZOd_ULH_RVr"
      }
    },
    {
      "cell_type": "code",
      "source": [
        "def Model2(V1H: int, V1T: int, initial_stock_price: int, up_factor: int, interest_rate : int):\n",
        "  down_factor = 1 / up_factor\n",
        "  S1H = Calculate_S1H(initial_stock_price,up_factor)\n",
        "  S1T = Calculate_S1T(initial_stock_price,down_factor)\n",
        "\n",
        "  ### Formulae for number of shares\n",
        "  N = (V1H - V1T)/(S1H - S1T)\n",
        "  print(\"No. of shares we need: \", N,'\\n')\n",
        "\n",
        "  a = (1 + interest_rate - down_factor)/(up_factor - down_factor)\n",
        "  b = (up_factor - 1 - interest_rate)/(up_factor - down_factor)\n",
        "  print(\"The Risk Neutral Probabilites are a:\",a, \"and b: \",b,'\\n')\n",
        "\n",
        "  Risk_Neutral_Pricing = (a*V1H + b*V1T) / (1 + interest_rate)\n",
        "  print(\"Risk_Neutral_Pricing of the option: \",Risk_Neutral_Pricing,'\\n')\n",
        "\n",
        "  ### Risk_Neutral_Price of the option is similar to the inital wealth which is required\n"
      ],
      "metadata": {
        "id": "ggoZ-rz8TrFg"
      },
      "execution_count": 21,
      "outputs": []
    },
    {
      "cell_type": "code",
      "source": [
        "V1H = 3\n",
        "V1T = 0\n",
        "initial_stock_price = 4\n",
        "up_factor = 2\n",
        "interest_rate = 0.25"
      ],
      "metadata": {
        "id": "7mpfkxrZXnEx"
      },
      "execution_count": 22,
      "outputs": []
    },
    {
      "cell_type": "code",
      "source": [
        "Model2(V1H,V1T,initial_stock_price,up_factor,interest_rate)"
      ],
      "metadata": {
        "id": "0cqGrV1CW8FU"
      },
      "execution_count": null,
      "outputs": []
    }
  ]
}